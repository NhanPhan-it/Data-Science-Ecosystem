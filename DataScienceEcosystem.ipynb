{
  "metadata": {
    "kernelspec": {
      "name": "python",
      "display_name": "Python (Pyodide)",
      "language": "python"
    },
    "language_info": {
      "codemirror_mode": {
        "name": "python",
        "version": 3
      },
      "file_extension": ".py",
      "mimetype": "text/x-python",
      "name": "python",
      "nbconvert_exporter": "python",
      "pygments_lexer": "ipython3",
      "version": "3.8"
    },
    "colab": {
      "provenance": []
    }
  },
  "nbformat_minor": 5,
  "nbformat": 4,
  "cells": [
    {
      "id": "1f3dc71b-ba98-465e-8fe1-004d97c4b7c0",
      "cell_type": "markdown",
      "source": [
        "# Data Science Tools and Ecosystem"
      ],
      "metadata": {
        "id": "1f3dc71b-ba98-465e-8fe1-004d97c4b7c0"
      }
    },
    {
      "id": "f8a5f74c-0d4e-4bcd-a952-0786ad1b713e",
      "cell_type": "markdown",
      "source": [
        "In this notebook, Data Science Tools and Ecosystem are summarized."
      ],
      "metadata": {
        "id": "f8a5f74c-0d4e-4bcd-a952-0786ad1b713e"
      }
    },
    {
      "id": "7ae14f42-9625-4ee6-82b5-0725dc0a9d8f",
      "cell_type": "markdown",
      "source": [
        "Some of the popular languages that Data Scientists use are:\n",
        "\n",
        "1. Python\n",
        "2. R\n",
        "3. Julia"
      ],
      "metadata": {
        "id": "7ae14f42-9625-4ee6-82b5-0725dc0a9d8f"
      }
    },
    {
      "id": "dda45d4d-cfa9-447f-bf6d-1ce4ef2fe3eb",
      "cell_type": "markdown",
      "source": [
        "Some of the commonly used libraries used by Data Scientists include:\n",
        "\n",
        "1. Numpy\n",
        "2. Pandas\n",
        "3. Matplotlib"
      ],
      "metadata": {
        "id": "dda45d4d-cfa9-447f-bf6d-1ce4ef2fe3eb"
      }
    },
    {
      "id": "c694bb9b-cfc5-4569-89a8-d9beb267b00e",
      "cell_type": "markdown",
      "source": [
        "| Data Science Tools       |\n",
        "|--------------------------|\n",
        "| Jupyter Notebook         |\n",
        "| RStudio                  |\n",
        "| Apache Zeppelin          |"
      ],
      "metadata": {
        "id": "c694bb9b-cfc5-4569-89a8-d9beb267b00e"
      }
    },
    {
      "id": "28fe4ae3-f386-458f-a057-89864e7a13b6",
      "cell_type": "markdown",
      "source": [
        "### Below are a few examples of evaluating arithmetic expressions in Python"
      ],
      "metadata": {
        "id": "28fe4ae3-f386-458f-a057-89864e7a13b6"
      }
    },
    {
      "id": "6ad100d3-8769-45be-8c42-b99ff5d6e54d",
      "cell_type": "code",
      "source": [
        "# This a simple arithmetic expression to mutiply then add integers\n",
        "(3*4)+5"
      ],
      "metadata": {
        "trusted": true,
        "id": "6ad100d3-8769-45be-8c42-b99ff5d6e54d",
        "outputId": "501efa1d-01b4-40ea-96b1-80c0c7bd5410"
      },
      "outputs": [
        {
          "execution_count": 1,
          "output_type": "execute_result",
          "data": {
            "text/plain": "17"
          },
          "metadata": {}
        }
      ],
      "execution_count": null
    },
    {
      "id": "4bf90c44-218a-4207-8fd1-7e396841746d",
      "cell_type": "code",
      "source": [
        "# This will convert 200 minutes to hours by diving by 60\n",
        "200 / 60"
      ],
      "metadata": {
        "trusted": true,
        "id": "4bf90c44-218a-4207-8fd1-7e396841746d",
        "outputId": "201b0b8a-5905-4535-dd44-ed9a6d947308"
      },
      "outputs": [
        {
          "execution_count": 2,
          "output_type": "execute_result",
          "data": {
            "text/plain": "3.3333333333333335"
          },
          "metadata": {}
        }
      ],
      "execution_count": null
    },
    {
      "id": "d28c2914-ac2e-4ca7-9ad5-760d949b2fdb",
      "cell_type": "markdown",
      "source": [
        "**Objectives:**\n",
        "\n",
        "- List popular languages for Data Science\n",
        "- List commonly used libraries in Data Science\n",
        "- Create and share a Jupyter Notebook\n",
        "- Evaluate arithmetic expressions in Python"
      ],
      "metadata": {
        "id": "d28c2914-ac2e-4ca7-9ad5-760d949b2fdb"
      }
    },
    {
      "id": "4d2dba38-d238-4865-9c8f-4a8126e827e7",
      "cell_type": "markdown",
      "source": [
        "## Author\n",
        "\n",
        "Phan Trung Nhan\n"
      ],
      "metadata": {
        "id": "4d2dba38-d238-4865-9c8f-4a8126e827e7"
      }
    }
  ]
}